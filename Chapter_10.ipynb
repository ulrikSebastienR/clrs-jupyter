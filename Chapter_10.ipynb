{
 "cells": [
  {
   "cell_type": "markdown",
   "metadata": {},
   "source": [
    "## Chapter 10: Elementary Data Structures"
   ]
  },
  {
   "cell_type": "code",
   "execution_count": 1,
   "metadata": {
    "collapsed": true
   },
   "outputs": [],
   "source": [
    "import unittest\n",
    "import random"
   ]
  },
  {
   "cell_type": "markdown",
   "metadata": {},
   "source": [
    "This chapter covers stacks, queues, linked lists, and rooted trees."
   ]
  },
  {
   "cell_type": "markdown",
   "metadata": {
    "collapsed": true
   },
   "source": [
    "### Stacks and Queues\n",
    "- Stacks and queues dynamic sets in which the element removed by a `delete` operation is prespecified\n",
    "- Stacks: last-in-first-out\n",
    "- Queues: first-in-first-out\n",
    "\n",
    "#### Stacks\n",
    "- `Insert` is `Push`\n",
    "- `Delete` is `Pop`\n",
    "- Stack of `n` elements can be implemented with an array `S[0..n]`\n",
    "- `S.top` indexes the most recently inserted element.\n",
    "- IE, the stack definition is `S[0..S.top]`\n",
    "- `Stack Overflow` happens if `S.top > n`\n",
    "- `Stack Underflow` happens if `S.Pop` on `S[]`"
   ]
  },
  {
   "cell_type": "code",
   "execution_count": 289,
   "metadata": {
    "collapsed": true
   },
   "outputs": [],
   "source": [
    "class Stack:\n",
    "    def __init__(self, size):\n",
    "        if size < 1:\n",
    "            raise Exception('Stack size must be greater than 0')\n",
    "        self.size = size\n",
    "        self.top_index = -1\n",
    "        self.arr = [None] * size\n",
    "        \n",
    "    def IsEmpty(self):\n",
    "        return self.top_index is -1\n",
    "        \n",
    "    def Push(self, x):\n",
    "        if self.top_index >= self.size-1:\n",
    "            raise OverflowError('Stack Overflow')\n",
    "        else:\n",
    "            \n",
    "            self.top_index += 1\n",
    "            self.arr[self.top_index] = x\n",
    "        \n",
    "    def Pop(self):\n",
    "        if self.IsEmpty():\n",
    "            raise IndexError('Stack Underflow')\n",
    "        else:\n",
    "            popped = self.arr[self.top_index]\n",
    "            self.arr[self.top_index] = None\n",
    "            self.top_index -= 1\n",
    "            return popped\n",
    "    def Print(self):\n",
    "        print(self.arr)"
   ]
  },
  {
   "cell_type": "code",
   "execution_count": 322,
   "metadata": {},
   "outputs": [
    {
     "data": {
      "text/plain": [
       "[None, None, None]"
      ]
     },
     "execution_count": 322,
     "metadata": {},
     "output_type": "execute_result"
    }
   ],
   "source": [
    "s = Stack(3)\n",
    "s.arr"
   ]
  },
  {
   "cell_type": "code",
   "execution_count": 323,
   "metadata": {},
   "outputs": [
    {
     "data": {
      "text/plain": [
       "True"
      ]
     },
     "execution_count": 323,
     "metadata": {},
     "output_type": "execute_result"
    }
   ],
   "source": [
    "s.IsEmpty()"
   ]
  },
  {
   "cell_type": "code",
   "execution_count": 324,
   "metadata": {
    "collapsed": true
   },
   "outputs": [],
   "source": [
    "s.Push(-431)\n",
    "s.Push(1113)\n",
    "s.Push(7)"
   ]
  },
  {
   "cell_type": "code",
   "execution_count": 325,
   "metadata": {},
   "outputs": [
    {
     "data": {
      "text/plain": [
       "2"
      ]
     },
     "execution_count": 325,
     "metadata": {},
     "output_type": "execute_result"
    }
   ],
   "source": [
    "s.top_index"
   ]
  },
  {
   "cell_type": "code",
   "execution_count": 326,
   "metadata": {},
   "outputs": [
    {
     "data": {
      "text/plain": [
       "False"
      ]
     },
     "execution_count": 326,
     "metadata": {},
     "output_type": "execute_result"
    }
   ],
   "source": [
    "s.IsEmpty()"
   ]
  },
  {
   "cell_type": "code",
   "execution_count": 328,
   "metadata": {},
   "outputs": [
    {
     "name": "stdout",
     "output_type": "stream",
     "text": [
      "[-431, 1113, 7]\n"
     ]
    }
   ],
   "source": [
    "s.Print()"
   ]
  },
  {
   "cell_type": "code",
   "execution_count": 329,
   "metadata": {},
   "outputs": [
    {
     "data": {
      "text/plain": [
       "7"
      ]
     },
     "execution_count": 329,
     "metadata": {},
     "output_type": "execute_result"
    }
   ],
   "source": [
    "s.Pop()"
   ]
  },
  {
   "cell_type": "code",
   "execution_count": 330,
   "metadata": {},
   "outputs": [
    {
     "name": "stdout",
     "output_type": "stream",
     "text": [
      "[-431, 1113, None]\n"
     ]
    }
   ],
   "source": [
    "s.Print()"
   ]
  },
  {
   "cell_type": "code",
   "execution_count": 331,
   "metadata": {},
   "outputs": [
    {
     "data": {
      "text/plain": [
       "-431"
      ]
     },
     "execution_count": 331,
     "metadata": {},
     "output_type": "execute_result"
    }
   ],
   "source": [
    "s.Pop()\n",
    "s.Pop()"
   ]
  },
  {
   "cell_type": "code",
   "execution_count": 332,
   "metadata": {},
   "outputs": [
    {
     "name": "stdout",
     "output_type": "stream",
     "text": [
      "[None, None, None]\n"
     ]
    }
   ],
   "source": [
    "s.Print()"
   ]
  },
  {
   "cell_type": "code",
   "execution_count": 312,
   "metadata": {
    "collapsed": true
   },
   "outputs": [],
   "source": [
    "class StackTest(unittest.TestCase):\n",
    "    \n",
    "    def test_new_stack_is_empty(self):\n",
    "        sut = Stack(50)\n",
    "        result = sut.IsEmpty()\n",
    "        self.assertEqual(result, True)\n",
    "    \n",
    "    def test_negative_stack_size_throws_exception(self):          \n",
    "        with self.assertRaises(Exception) as c:\n",
    "            sut = Stack(-1)\n",
    "    \n",
    "    def test_stack_overflow_throws_exception(self):\n",
    "        with self.assertRaises(OverflowError) as c:\n",
    "            sut = Stack(2)\n",
    "            sut.Push(1)\n",
    "            sut.Push(-23)\n",
    "            sut.Push(344)\n",
    "            \n",
    "    def test_constructed_stack_contains_Nones(self):\n",
    "        sut = Stack(2)\n",
    "        expected = [None, None]\n",
    "        result = sut.arr        \n",
    "        self.assertEqual(expected, result)\n",
    "        \n",
    "    def test_push_sets_top_element(self):\n",
    "        sut = Stack(3)\n",
    "        expected = 1\n",
    "        sut.Push(1000)\n",
    "        sut.Push(-324)\n",
    "        sut.Push(1)\n",
    "        result = sut.arr[sut.top_index]\n",
    "        self.assertEqual(expected, result)\n",
    "        \n",
    "    def test_pop_sets_previous_element(self):\n",
    "        sut = Stack(3)\n",
    "        expected = 6\n",
    "        sut.Push(6)\n",
    "        sut.Push(4000)\n",
    "        sut.Pop()\n",
    "        result = sut.arr[sut.top_index]\n",
    "        self.assertEqual(expected, result)\n",
    "        \n",
    "    def test_pop_sets_None_value_at_previous_top_index(self):\n",
    "        sut = Stack(3)\n",
    "        expected = None\n",
    "        sut.Push(6)\n",
    "        sut.Push(90)\n",
    "        sut.Pop()\n",
    "        result = sut.arr[sut.top_index + 1]\n",
    "        self.assertEqual(expected, result)"
   ]
  },
  {
   "cell_type": "code",
   "execution_count": 334,
   "metadata": {},
   "outputs": [
    {
     "name": "stderr",
     "output_type": "stream",
     "text": [
      ".......\n",
      "----------------------------------------------------------------------\n",
      "Ran 7 tests in 0.009s\n",
      "\n",
      "OK\n"
     ]
    }
   ],
   "source": [
    "if __name__ == '__main__':\n",
    "    # testing in jupyter requires passing [], exit=False\n",
    "    unittest.main(argv=['first-arg-is-ignored'], exit=False)"
   ]
  },
  {
   "cell_type": "markdown",
   "metadata": {},
   "source": [
    "#### Queues\n",
    "- `Insert` is `Enqueue`\n",
    "- `Delete` is `Dequeue`\n",
    "- Has `head` and `tail`\n",
    "- `Enqueue` from the `tail`\n",
    "- `Dequeue` from the `head`"
   ]
  },
  {
   "cell_type": "code",
   "execution_count": 87,
   "metadata": {},
   "outputs": [],
   "source": [
    "# head and tail are indices. We want to wrap around\n",
    "# and always update next spot rather than shift elements\n",
    "# back towards 0 index.\n",
    "\n",
    "class Queue:\n",
    "    def __init__(self, size):\n",
    "        if size < 1:\n",
    "            raise Exception('Queue size must be greater than 0')\n",
    "        self.size = size\n",
    "        self.q = [None] * size\n",
    "        self.tail = 0\n",
    "        self.head = 0\n",
    "        \n",
    "    def Enqueue(self, x):\n",
    "        self.q[self.tail] = x\n",
    "        if self.tail == self.size - 1:\n",
    "            self.tail = 0\n",
    "        else: self.tail = self.tail + 1\n",
    "        \n",
    "    def Dequeue(self):\n",
    "        x = self.q[self.head]\n",
    "        if self.head == self.size - 1:\n",
    "            self.head = 1\n",
    "        else: self.head = self.head + 1\n",
    "        return x\n",
    "\n",
    "    def Print(self):\n",
    "        print(self.q)"
   ]
  },
  {
   "cell_type": "code",
   "execution_count": 88,
   "metadata": {
    "collapsed": true
   },
   "outputs": [],
   "source": [
    "q = Queue(3)\n",
    "q.Enqueue(14)\n",
    "q.Enqueue(233)\n",
    "q.Enqueue(31)"
   ]
  },
  {
   "cell_type": "code",
   "execution_count": 89,
   "metadata": {},
   "outputs": [
    {
     "name": "stdout",
     "output_type": "stream",
     "text": [
      "[14, 233, 31]\n"
     ]
    }
   ],
   "source": [
    "q.Print()"
   ]
  },
  {
   "cell_type": "code",
   "execution_count": 90,
   "metadata": {},
   "outputs": [
    {
     "data": {
      "text/plain": [
       "31"
      ]
     },
     "execution_count": 90,
     "metadata": {},
     "output_type": "execute_result"
    }
   ],
   "source": [
    "q.Dequeue()\n",
    "q.Dequeue()\n",
    "q.Dequeue()"
   ]
  },
  {
   "cell_type": "code",
   "execution_count": 91,
   "metadata": {},
   "outputs": [
    {
     "data": {
      "text/plain": [
       "1"
      ]
     },
     "execution_count": 91,
     "metadata": {},
     "output_type": "execute_result"
    }
   ],
   "source": [
    "q.head"
   ]
  }
 ],
 "metadata": {
  "kernelspec": {
   "display_name": "Python 3",
   "language": "python",
   "name": "python3"
  },
  "language_info": {
   "codemirror_mode": {
    "name": "ipython",
    "version": 3
   },
   "file_extension": ".py",
   "mimetype": "text/x-python",
   "name": "python",
   "nbconvert_exporter": "python",
   "pygments_lexer": "ipython3",
   "version": "3.6.3"
  }
 },
 "nbformat": 4,
 "nbformat_minor": 2
}
