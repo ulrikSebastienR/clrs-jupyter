{
 "cells": [
  {
   "cell_type": "code",
   "execution_count": 3,
   "metadata": {
    "collapsed": true
   },
   "outputs": [],
   "source": [
    "import random\n",
    "import unittest"
   ]
  },
  {
   "cell_type": "markdown",
   "metadata": {},
   "source": [
    "## Chapter 6: Heapsort\n",
    "\n",
    "- Running time is `O(n*log(n))`\n",
    "- Like insertion, unlike merge, it sorts in place.\n",
    "- Like merge, unlike insertion, run time is `O(n*og(n))`\n",
    "\n",
    "#### Min Heaps, Max Heaps\n",
    "- Binary tree and array structure\n",
    "- Number stored at each node is a value\n",
    "- Each node has an index in an array representing its position\n",
    "- Max heap has maximum value at the root\n",
    "- Min heap has minimum value at the root\n",
    "\n",
    "\n",
    "#### Example Max Heap:\n",
    "```\n",
    "Binary Tree Representation:\n",
    "\n",
    "           {idx: 0, val: 10}\n",
    "          /                 \\\n",
    " {idx: 1, val: 4}       {idx: 2, val:16}\n",
    "    /        \\             /       \\\n",
    "  ...        ...         ...       ...\n",
    "\n",
    "Array Representation:\n",
    "[10, 4, 16]\n",
    "\n",
    "```\n",
    "\n",
    "#### Operations\n",
    "\n",
    "```\n",
    "PARENT(i) => floor(i/2)\n",
    "LEFT(i)   => 2*i\n",
    "RIGHT(i)  => 2*i + 1\n",
    "```\n",
    "\n",
    "`HeapSort` uses Max Heaps\n",
    "\n",
    "\n",
    "#### Structure\n",
    "\n",
    "- The height of a heap is defined as the height of its root node.\n",
    "- The height of a node is defined as the number of edges on the longes single downward path to a leaf\n",
    "- Heap of n elements is a complete binary tree, so height is `BigTheta(log(n))`\n",
    "- Basic operations on heaps run proportional to height, so `O(log(n))`\n",
    "\n",
    "#### Operations\n",
    "- `MaxHeapify` - Runs in `O(log(n))`\n",
    "- `Build-Max-Heap` - Runs in `O(n)`\n",
    "- `Heapsort` - Runs in `O(n*log(n))`\n",
    "- `MaxHeapInsert, HeapExtractMax, HeapIncreaseKey, HeapMaximum` run in `O(log(n))` allow it to implement a priority queue."
   ]
  },
  {
   "cell_type": "code",
   "execution_count": 1,
   "metadata": {
    "collapsed": true
   },
   "outputs": [],
   "source": [
    "import unittest\n",
    "import random"
   ]
  },
  {
   "cell_type": "markdown",
   "metadata": {},
   "source": [
    "__6.1.1__\n",
    "\n",
    "Min and max numbers of elements in a heap of height h?"
   ]
  },
  {
   "cell_type": "markdown",
   "metadata": {
    "collapsed": true
   },
   "source": [
    "Since the height of a tree is defined as `h = log(n)`, where `n` is the number of nodes,\n",
    "we can solve for `n`. \n",
    "\n",
    "So, `n = 2^h` would represent the min number of nodes at height `h`.\n",
    "A complete binary tree has a full layer at current height, so `2^(h+1)-1` elements."
   ]
  },
  {
   "cell_type": "markdown",
   "metadata": {},
   "source": [
    "__6.1.2__\n",
    "\n",
    "Show that n-element heap has height `floor(log(n))`"
   ]
  },
  {
   "cell_type": "markdown",
   "metadata": {},
   "source": [
    "Since max number of nodes `n` is `2^(h+1)-1`, and min is `2^h`, then it must be true that:\n",
    "\n",
    ": `2^(h+1)-1 >= n >= 2^h`\n",
    "\n",
    ": `2^(h+1) > n >= 2^h`\n",
    "\n",
    "and therefore\n",
    "\n",
    "`log(h+1) > log(n) >= h`"
   ]
  },
  {
   "cell_type": "markdown",
   "metadata": {},
   "source": [
    "__6.1.3__\n",
    "\n",
    "Show that in any subtree of a max heap, the root of the subtree contains the largest value in that subtree"
   ]
  },
  {
   "cell_type": "markdown",
   "metadata": {},
   "source": [
    "This is the definition of a max heap.\n",
    "\n",
    "In other words, `A[PARENT(i) >= A[i] >= A[LEFT(i)] >= A[RIGHT(i)]`\n",
    "\n",
    "We could expand the functions to see:\n",
    "\n",
    "`A[i/2] >= A[i] >= A[2*i] >= A[2*i] >= A[2*i + 1]`\n",
    "\n",
    "so for all `i`,\n",
    "\n",
    "`A[i/2] >= A[i] >= A[2*i]`\n",
    "\n",
    "Since the root by definition is a node without a parent,\n",
    "\n",
    "`A[i] >= A[2*i]`\n",
    "\n",
    "And since `A[2*i]` is the smallest valid movement from `A[i]`, and is by definition larger. Therefore, `A[i]` is by definition the largest value in any subtree where `A[i]` is root.\n"
   ]
  },
  {
   "cell_type": "markdown",
   "metadata": {},
   "source": [
    "__6.1.4__\n",
    "\n",
    "Where in a max heap is the smallest element, given all distinct nodes?\n",
    "\n",
    "It will be among the leaves."
   ]
  },
  {
   "cell_type": "markdown",
   "metadata": {},
   "source": [
    "__6.1.5__\n",
    "\n",
    "Is an array in sorted order a min heap?\n",
    "\n",
    "Yes.\n",
    "\n",
    "`A[PARENT(i)] < A[i] and PARENT(i) < i` "
   ]
  },
  {
   "cell_type": "markdown",
   "metadata": {},
   "source": [
    "__6.1.6__\n",
    "\n",
    "Where in a max heap is the smallest element, given all distinct nodes?\n",
    "\n",
    "It will be among the leaves."
   ]
  },
  {
   "cell_type": "markdown",
   "metadata": {},
   "source": [
    "__6.1.7__\n",
    "\n",
    "Show that, with the array representation for storing an n-element heap, the leaves are the nodes indexed by:\n",
    "\n",
    "`floor(n/2)+1, floor(n/2)+2, ..., n`"
   ]
  },
  {
   "cell_type": "markdown",
   "metadata": {},
   "source": [
    "It is tautologically true that the maximum value of nodes in the heap is `n`, so `A[n]` is the last value in the array (with 1-indexing).\n",
    "\n",
    "It is also true that at each new layer of a heap, the number of elements `n` increases by `(n*2)+1`\n",
    "\n",
    "So `n_new` = `(n_old*2)+1`\n",
    "\n",
    "Thus, `n_new-1 = 2*n_old`\n",
    "\n",
    "Another way to illustrate:\n",
    "\n",
    "`LEFT(i) > n`\n",
    "\n",
    "`2*i > n`\n",
    "\n",
    "`i > n/2`\n",
    "\n",
    "`i > floor(n/2)+1`"
   ]
  },
  {
   "cell_type": "markdown",
   "metadata": {},
   "source": [
    "__6.2__\n",
    "\n",
    "#### Max-Heapify"
   ]
  },
  {
   "cell_type": "markdown",
   "metadata": {},
   "source": [
    "__6.2.1__\n",
    "\n",
    "Illustrate the operation of max_heapify(arr, 3) on:\n",
    "arr = [27, 17, 3, 16, 13, 10, 1, 5, 7, 12, 4, 8, 9, 0]"
   ]
  },
  {
   "cell_type": "code",
   "execution_count": 32,
   "metadata": {},
   "outputs": [],
   "source": [
    "A = [27, 17, 3, 16, 13, 10, 1, 5, 7, 12, 4, 8, 9, 0]"
   ]
  }
 ],
 "metadata": {
  "kernelspec": {
   "display_name": "Python 3",
   "language": "python",
   "name": "python3"
  },
  "language_info": {
   "codemirror_mode": {
    "name": "ipython",
    "version": 3
   },
   "file_extension": ".py",
   "mimetype": "text/x-python",
   "name": "python",
   "nbconvert_exporter": "python",
   "pygments_lexer": "ipython3",
   "version": "3.6.3"
  }
 },
 "nbformat": 4,
 "nbformat_minor": 2
}
