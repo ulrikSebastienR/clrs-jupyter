{
 "cells": [
  {
   "cell_type": "markdown",
   "metadata": {},
   "source": [
    "# CLRS Algorithms\n",
    "## Chapter 2: Getting Started"
   ]
  },
  {
   "cell_type": "code",
   "execution_count": 1,
   "metadata": {
    "collapsed": true
   },
   "outputs": [],
   "source": [
    "import unittest\n",
    "import random"
   ]
  },
  {
   "cell_type": "code",
   "execution_count": 2,
   "metadata": {
    "collapsed": true
   },
   "outputs": [],
   "source": [
    "# 2.1\n",
    "# Insertion Sort\n",
    "\n",
    "def insertion_sort(a):\n",
    "    for j in range(1, len(a)):\n",
    "        key = a[j]        \n",
    "        i = j - 1        \n",
    "        while i >= 0 and a[i] > key:\n",
    "            a[i+1] = a[i]\n",
    "            i = i - 1\n",
    "        a[i+1] = key\n",
    "    return a"
   ]
  },
  {
   "cell_type": "code",
   "execution_count": 3,
   "metadata": {
    "collapsed": true
   },
   "outputs": [],
   "source": [
    "class InsertionSortTest(unittest.TestCase):\n",
    "    \n",
    "    def test_returns_empty_list_given_empty_list(self):\n",
    "        expected = []\n",
    "        result = insertion_sort(expected)\n",
    "        self.assertEqual(expected, result)\n",
    "    \n",
    "    def test_returns_sorted_given_unsorted_list(self):        \n",
    "        x = [200, 10, 1, 5, 6]\n",
    "        expected = [1, 5, 6, 10, 200]\n",
    "        result = insertion_sort(x)\n",
    "        self.assertEqual(expected, result)\n",
    "\n",
    "    def test_sorts_many_large_random_lists(self):\n",
    "        for _ in range(10000):\n",
    "            x = self.large_random_list()\n",
    "            expected = sorted(x)            \n",
    "            result = insertion_sort(x)\n",
    "            self.assertEqual(expected, result)\n",
    "            \n",
    "    def large_random_list(self):\n",
    "        return [random.randint(0, 100) for _ in range(random.randint(1, 100))]"
   ]
  },
  {
   "cell_type": "code",
   "execution_count": 4,
   "metadata": {},
   "outputs": [
    {
     "name": "stderr",
     "output_type": "stream",
     "text": [
      "...\n",
      "----------------------------------------------------------------------\n",
      "Ran 3 tests in 1.889s\n",
      "\n",
      "OK\n"
     ]
    }
   ],
   "source": [
    "if __name__ == '__main__':\n",
    "    # testing in jupyter requires passing [], exit=False\n",
    "    unittest.main(argv=['first-arg-is-ignored'], exit=False)"
   ]
  },
  {
   "cell_type": "markdown",
   "metadata": {},
   "source": [
    "### Exercises"
   ]
  },
  {
   "cell_type": "markdown",
   "metadata": {},
   "source": [
    "#### 2.1-1"
   ]
  },
  {
   "cell_type": "code",
   "execution_count": 5,
   "metadata": {},
   "outputs": [
    {
     "data": {
      "text/plain": [
       "[26, 31, 41, 41, 58, 59]"
      ]
     },
     "execution_count": 5,
     "metadata": {},
     "output_type": "execute_result"
    }
   ],
   "source": [
    "# use insertion_sort to sort the given array\n",
    "\n",
    "a = [31, 41, 59, 26, 41, 58]\n",
    "insertion_sort(a)"
   ]
  },
  {
   "cell_type": "markdown",
   "metadata": {},
   "source": [
    "#### 2.1-2"
   ]
  },
  {
   "cell_type": "code",
   "execution_count": 6,
   "metadata": {
    "collapsed": true
   },
   "outputs": [],
   "source": [
    "# rewrite insertion_sort to sort in nonincreasing order\n",
    "\n",
    "def insertion_sort_reverse(a):\n",
    "    for j in range(1, len(a)):\n",
    "        key = a[j]        \n",
    "        i = j - 1        \n",
    "        while i >= 0 and a[i] < key:\n",
    "            a[i+1] = a[i]\n",
    "            i = i - 1\n",
    "        a[i+1] = key\n",
    "    return a"
   ]
  },
  {
   "cell_type": "code",
   "execution_count": 7,
   "metadata": {
    "collapsed": true
   },
   "outputs": [],
   "source": [
    "class InsertionSortReverseTest(unittest.TestCase):\n",
    "    \n",
    "    def test_returns_empty_list_given_empty_list(self):\n",
    "        expected = []\n",
    "        result = insertion_sort_reverse(expected)\n",
    "        self.assertEqual(expected, result)\n",
    "    \n",
    "    def test_returns_nonincreasing_sorted_given_unsorted_list(self):        \n",
    "        x = [200, 10, 1, 5, 6]\n",
    "        expected = [200, 10, 6, 5, 1]\n",
    "        result = insertion_sort_reverse(x)\n",
    "        self.assertEqual(expected, result)\n",
    "\n",
    "    def test_sorts_many_large_random_lists(self):\n",
    "        for _ in range(10000):\n",
    "            x = self.large_random_list()\n",
    "            expected = sorted(x, reverse = True)            \n",
    "            result = insertion_sort_reverse(x)\n",
    "            self.assertEqual(expected, result)\n",
    "            \n",
    "    def large_random_list(self):\n",
    "        return [random.randint(0, 100) for _ in range(random.randint(1, 100))]"
   ]
  },
  {
   "cell_type": "code",
   "execution_count": 8,
   "metadata": {},
   "outputs": [
    {
     "name": "stderr",
     "output_type": "stream",
     "text": [
      "......\n",
      "----------------------------------------------------------------------\n",
      "Ran 6 tests in 3.688s\n",
      "\n",
      "OK\n"
     ]
    }
   ],
   "source": [
    "if __name__ == '__main__':\n",
    "    # testing in jupyter requires passing [], exit=False\n",
    "    unittest.main(argv=['first-arg-is-ignored'], exit=False)"
   ]
  },
  {
   "cell_type": "markdown",
   "metadata": {},
   "source": [
    "#### 2.1-3"
   ]
  },
  {
   "cell_type": "code",
   "execution_count": 9,
   "metadata": {
    "collapsed": true
   },
   "outputs": [],
   "source": [
    "# write a linear search which scans through a sequence\n",
    "# and returns index i such that v == arr[i] or None if v\n",
    "# does not appear in arr.  Using a loop invariant, prove\n",
    "# the algorithm is correct.\n",
    "\n",
    "# the problem is not clear as to whether we should return the first instance\n",
    "# of v == arr[i], or every instance, since it is not known if arr is a set\n",
    "# therefore, I'll return a collection of all instances"
   ]
  },
  {
   "cell_type": "code",
   "execution_count": 10,
   "metadata": {
    "collapsed": true
   },
   "outputs": [],
   "source": [
    "def linear_scan(a, v):\n",
    "    results = []\n",
    "    for i in range(len(a)):\n",
    "        if a[i] == v:\n",
    "            results.append(i)\n",
    "    if len(results) == 0:\n",
    "        print('None')\n",
    "        return None\n",
    "    return results"
   ]
  },
  {
   "cell_type": "code",
   "execution_count": 11,
   "metadata": {},
   "outputs": [
    {
     "name": "stdout",
     "output_type": "stream",
     "text": [
      "None\n"
     ]
    }
   ],
   "source": [
    "arr = [1, 4, 8, 1]\n",
    "\n",
    "linear_scan(arr, 2)"
   ]
  },
  {
   "cell_type": "code",
   "execution_count": 12,
   "metadata": {},
   "outputs": [
    {
     "data": {
      "text/plain": [
       "[0, 3]"
      ]
     },
     "execution_count": 12,
     "metadata": {},
     "output_type": "execute_result"
    }
   ],
   "source": [
    "linear_scan(arr, 1)"
   ]
  },
  {
   "cell_type": "markdown",
   "metadata": {},
   "source": [
    "__Loop Invariant__:\n",
    "\n",
    "- _Initialization_: Before the start of the for loop in lines 3 through 5, the results list __results__ is empty. It is trivially true that no matching element has been found because __a__ has not yet been scanned.\n",
    "\n",
    "- _Maintenance_: As the for loop iterates through __a__, it maintains an index __i__ and checks if the value of __a__ at index __i__ is equal to input __v__.  If this is the case, then the value of __i__ is added to __results__. As the loop moves from left to right through __a__, __a__ remains unmodified while __results__ maintains a collection of matching indices.\n",
    "\n",
    "- _Termination_: When the for loop is exited, __results__ contains all matches `a[i] == v`. The value of __i__ is equal to `len(a)`, so all indices have been visited.  If `len(results)` is zero, then no value was appended to __results__ and so no match was found."
   ]
  },
  {
   "cell_type": "markdown",
   "metadata": {},
   "source": [
    "#### 2.1-4"
   ]
  },
  {
   "cell_type": "code",
   "execution_count": 13,
   "metadata": {
    "collapsed": true
   },
   "outputs": [],
   "source": [
    "# consider the problem of adding two n-bit binary integers, stored in two n-element\n",
    "# arrays A and B.  The sum of the two ints should be stored in binary form in an (n+1)-element\n",
    "# array C.\n",
    "\n",
    "def add_binary(a, b):\n",
    "    n = len(a)\n",
    "    c = [0 for _ in range(n + 1)]\n",
    "    carry = 0\n",
    "    for i in range(n):\n",
    "        c[i] = a[i] + b[i] + carry\n",
    "        if c[i] > 1:\n",
    "            c[i] -= 2\n",
    "            carry = 1\n",
    "        else:\n",
    "            carry = 0\n",
    "    c[n] = carry\n",
    "    return c\n",
    "\n",
    "\n",
    "class AddBinaryTestCase(unittest.TestCase):\n",
    "    def test_carry(self):\n",
    "        a = [1, 0, 1]\n",
    "        b = [1, 1, 1]\n",
    "        self.assertEqual(add_binary(a, b), [0, 0, 1, 1])"
   ]
  },
  {
   "cell_type": "code",
   "execution_count": 14,
   "metadata": {},
   "outputs": [
    {
     "name": "stderr",
     "output_type": "stream",
     "text": [
      ".......\n",
      "----------------------------------------------------------------------\n",
      "Ran 7 tests in 3.716s\n",
      "\n",
      "OK\n"
     ]
    }
   ],
   "source": [
    "if __name__ == '__main__':\n",
    "    # testing in jupyter requires passing [], exit=False\n",
    "    unittest.main(argv=['first-arg-is-ignored'], exit=False)"
   ]
  }
 ],
 "metadata": {
  "kernelspec": {
   "display_name": "Python 3",
   "language": "python",
   "name": "python3"
  },
  "language_info": {
   "codemirror_mode": {
    "name": "ipython",
    "version": 3
   },
   "file_extension": ".py",
   "mimetype": "text/x-python",
   "name": "python",
   "nbconvert_exporter": "python",
   "pygments_lexer": "ipython3",
   "version": "3.6.3"
  }
 },
 "nbformat": 4,
 "nbformat_minor": 2
}
