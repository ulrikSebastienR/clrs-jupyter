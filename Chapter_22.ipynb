{
 "cells": [
  {
   "cell_type": "markdown",
   "metadata": {},
   "source": [
    "## Chapter 22: Elementary Graph Algorithms"
   ]
  },
  {
   "cell_type": "code",
   "execution_count": 32,
   "metadata": {
    "collapsed": true
   },
   "outputs": [],
   "source": [
    "import unittest\n",
    "import random\n",
    "from IPython.display import SVG, display\n"
   ]
  },
  {
   "cell_type": "markdown",
   "metadata": {},
   "source": [
    "This chapter presents methods for representing a graph and for searching a graph.\n",
    "Searching means following edges to visit vertices."
   ]
  },
  {
   "cell_type": "markdown",
   "metadata": {},
   "source": [
    "### 22.1 Representations of Graphs"
   ]
  },
  {
   "cell_type": "markdown",
   "metadata": {},
   "source": [
    "- Two standard means of representation `G = (V, E)`: __Adjacency Lists__ and __Adjacency Matrix__\n",
    "    \n",
    "- Either applies to both directed and undirected graphs.\n",
    "- __Adjacency List__ compactly represents _sparse graphs_ `(E << V^2)`\n",
    "- __Adjaceny Matrix__ prefereable for _dense graphs_ `(E ~= V)^2` or quickly knowing if there is an edge connecting two nodes\n"
   ]
  },
  {
   "cell_type": "markdown",
   "metadata": {},
   "source": [
    "#### Adjacency-List Representation"
   ]
  },
  {
   "cell_type": "markdown",
   "metadata": {},
   "source": [
    "For a graph `G = (V, E)`, consists of:\n",
    "- array `Adj` of `|V|` lists, one for each vertex in `V`\n",
    "- for each `u ∈ V`, the adjacency list `Adj[u]` contains all vertices `v` such that there is an edge `(e, v) ∈ E`\n",
    "- in other words, `Adj[u]` is all of the vertices adjacent to `u` in `G`.\n",
    "- disadvantage: no quicker way to tell whether a given edge `(u, v)` is present in the graph than to search for `v` in `Adj[u]`"
   ]
  },
  {
   "cell_type": "code",
   "execution_count": 45,
   "metadata": {},
   "outputs": [
    {
     "data": {
      "image/svg+xml": [
       "<svg fill=\"none\" stroke=\"none\" stroke-linecap=\"square\" stroke-miterlimit=\"10\" version=\"1.1\" viewBox=\"0.0 0.0 306.503937007874 199.38057742782152\" xmlns=\"http://www.w3.org/2000/svg\" xmlns:xlink=\"http://www.w3.org/1999/xlink\">\n",
       "<clipPath id=\"p.0\">\n",
       "<path clip-rule=\"nonzero\" d=\"m0 0l306.50394 0l0 199.38058l-306.50394 0l0 -199.38058z\"/>\n",
       "</clipPath>\n",
       "<g clip-path=\"url(#p.0)\">\n",
       "<path d=\"m0 0l306.50394 0l0 199.38058l-306.50394 0z\" fill=\"#000000\" fill-opacity=\"0.0\" fill-rule=\"evenodd\"/>\n",
       "<path d=\"m9.619423 40.490814l0 0c0 -17.533955 14.214077 -31.748032 31.748032 -31.748032l0 0c8.420101 0 16.495338 3.3448715 22.44925 9.298782c5.953911 5.953911 9.298782 14.029148 9.298782 22.44925l0 0c0 17.533955 -14.214077 31.748032 -31.748032 31.748032l0 0c-17.533955 0 -31.748032 -14.214077 -31.748032 -31.748032z\" fill=\"#cfe2f3\" fill-rule=\"evenodd\"/>\n",
       "<path d=\"m9.619423 40.490814l0 0c0 -17.533955 14.214077 -31.748032 31.748032 -31.748032l0 0c8.420101 0 16.495338 3.3448715 22.44925 9.298782c5.953911 5.953911 9.298782 14.029148 9.298782 22.44925l0 0c0 17.533955 -14.214077 31.748032 -31.748032 31.748032l0 0c-17.533955 0 -31.748032 -14.214077 -31.748032 -31.748032z\" fill-rule=\"evenodd\" stroke=\"#000000\" stroke-linecap=\"butt\" stroke-linejoin=\"round\" stroke-width=\"1.0\"/>\n",
       "<path d=\"m43.13272 47.410812l-1.640625 0l0 -10.453125q-0.59375 0.5625 -1.5625 1.140625q-0.953125 0.5625 -1.71875 0.84375l0 -1.59375q1.375 -0.640625 2.40625 -1.5625q1.03125 -0.921875 1.453125 -1.78125l1.0625 0l0 13.40625z\" fill=\"#000000\" fill-rule=\"nonzero\"/>\n",
       "<path d=\"m9.619423 156.89502l0 0c0 -17.533966 14.214077 -31.74804 31.748032 -31.74804l0 0c8.420101 0 16.495338 3.3448715 22.44925 9.29879c5.953911 5.953903 9.298782 14.029144 9.298782 22.44925l0 0c0 17.53395 -14.214077 31.748032 -31.748032 31.748032l0 0c-17.533955 0 -31.748032 -14.214081 -31.748032 -31.748032z\" fill=\"#cfe2f3\" fill-rule=\"evenodd\"/>\n",
       "<path d=\"m9.619423 156.89502l0 0c0 -17.533966 14.214077 -31.74804 31.748032 -31.74804l0 0c8.420101 0 16.495338 3.3448715 22.44925 9.29879c5.953911 5.953903 9.298782 14.029144 9.298782 22.44925l0 0c0 17.53395 -14.214077 31.748032 -31.748032 31.748032l0 0c-17.533955 0 -31.748032 -14.214081 -31.748032 -31.748032z\" fill-rule=\"evenodd\" stroke=\"#000000\" stroke-linecap=\"butt\" stroke-linejoin=\"round\" stroke-width=\"1.0\"/>\n",
       "<path d=\"m36.960846 160.31502l1.71875 -0.140625q0.1875 1.25 0.875 1.890625q0.703125 0.625 1.6875 0.625q1.1875 0 2.0 -0.890625q0.828125 -0.890625 0.828125 -2.359375q0 -1.40625 -0.796875 -2.21875q-0.78125 -0.8125 -2.0625 -0.8125q-0.78125 0 -1.421875 0.359375q-0.640625 0.359375 -1.0 0.9375l-1.546875 -0.203125l1.296875 -6.859375l6.640625 0l0 1.5625l-5.328125 0l-0.71875 3.59375q1.203125 -0.84375 2.515625 -0.84375q1.75 0 2.953125 1.21875q1.203125 1.203125 1.203125 3.109375q0 1.8125 -1.046875 3.140625q-1.296875 1.625 -3.515625 1.625q-1.8125 0 -2.96875 -1.015625q-1.15625 -1.03125 -1.3125 -2.71875z\" fill=\"#000000\" fill-rule=\"nonzero\"/>\n",
       "<path d=\"m129.4567 156.89502l0 0c0 -17.533966 14.214081 -31.74804 31.748032 -31.74804l0 0c8.420105 0 16.49533 3.3448715 22.44925 9.29879c5.953903 5.953903 9.298782 14.029144 9.298782 22.44925l0 0c0 17.53395 -14.214081 31.748032 -31.748032 31.748032l0 0c-17.53395 0 -31.748032 -14.214081 -31.748032 -31.748032z\" fill=\"#cfe2f3\" fill-rule=\"evenodd\"/>\n",
       "<path d=\"m129.4567 156.89502l0 0c0 -17.533966 14.214081 -31.74804 31.748032 -31.74804l0 0c8.420105 0 16.49533 3.3448715 22.44925 9.29879c5.953903 5.953903 9.298782 14.029144 9.298782 22.44925l0 0c0 17.53395 -14.214081 31.748032 -31.748032 31.748032l0 0c-17.53395 0 -31.748032 -14.214081 -31.748032 -31.748032z\" fill-rule=\"evenodd\" stroke=\"#000000\" stroke-linecap=\"butt\" stroke-linejoin=\"round\" stroke-width=\"1.0\"/>\n",
       "<path d=\"m162.04811 163.81502l0 -3.203125l-5.796875 0l0 -1.5l6.09375 -8.65625l1.34375 0l0 8.65625l1.796875 0l0 1.5l-1.796875 0l0 3.203125l-1.640625 0zm0 -4.703125l0 -6.015625l-4.1875 6.015625l4.1875 0z\" fill=\"#000000\" fill-rule=\"nonzero\"/>\n",
       "<path d=\"m129.4567 40.490814l0 0c0 -17.533955 14.214081 -31.748032 31.748032 -31.748032l0 0c8.420105 0 16.49533 3.3448715 22.44925 9.298782c5.953903 5.953911 9.298782 14.029148 9.298782 22.44925l0 0c0 17.533955 -14.214081 31.748032 -31.748032 31.748032l0 0c-17.53395 0 -31.748032 -14.214077 -31.748032 -31.748032z\" fill=\"#cfe2f3\" fill-rule=\"evenodd\"/>\n",
       "<path d=\"m129.4567 40.490814l0 0c0 -17.533955 14.214081 -31.748032 31.748032 -31.748032l0 0c8.420105 0 16.49533 3.3448715 22.44925 9.298782c5.953903 5.953911 9.298782 14.029148 9.298782 22.44925l0 0c0 17.533955 -14.214081 31.748032 -31.748032 31.748032l0 0c-17.53395 0 -31.748032 -14.214077 -31.748032 -31.748032z\" fill-rule=\"evenodd\" stroke=\"#000000\" stroke-linecap=\"butt\" stroke-linejoin=\"round\" stroke-width=\"1.0\"/>\n",
       "<path d=\"m165.40749 45.832687l0 1.578125l-8.828125 0q-0.015625 -0.59375 0.1875 -1.140625q0.34375 -0.90625 1.078125 -1.78125q0.75 -0.875 2.15625 -2.015625q2.171875 -1.78125 2.9375 -2.828125q0.765625 -1.046875 0.765625 -1.96875q0 -0.984375 -0.703125 -1.640625q-0.6875 -0.671875 -1.8125 -0.671875q-1.1875 0 -1.90625 0.71875q-0.703125 0.703125 -0.703125 1.953125l-1.6875 -0.171875q0.171875 -1.890625 1.296875 -2.875q1.140625 -0.984375 3.03125 -0.984375q1.921875 0 3.046875 1.0625q1.125 1.0625 1.125 2.640625q0 0.796875 -0.328125 1.578125q-0.328125 0.78125 -1.09375 1.640625q-0.75 0.84375 -2.53125 2.34375q-1.46875 1.234375 -1.890625 1.6875q-0.421875 0.4375 -0.6875 0.875l6.546875 0z\" fill=\"#000000\" fill-rule=\"nonzero\"/>\n",
       "<path d=\"m41.367455 72.238846l0 52.913383\" fill=\"#000000\" fill-opacity=\"0.0\" fill-rule=\"evenodd\"/>\n",
       "<path d=\"m41.367455 72.238846l0 52.913383\" fill-rule=\"evenodd\" stroke=\"#000000\" stroke-linecap=\"butt\" stroke-linejoin=\"round\" stroke-width=\"1.0\"/>\n",
       "<path d=\"m138.75548 62.940063l-74.92914 71.49606\" fill=\"#000000\" fill-opacity=\"0.0\" fill-rule=\"evenodd\"/>\n",
       "<path d=\"m138.75548 62.940063l-74.92914 71.49606\" fill-rule=\"evenodd\" stroke=\"#000000\" stroke-linecap=\"butt\" stroke-linejoin=\"round\" stroke-width=\"1.0\"/>\n",
       "<path d=\"m73.115486 156.89502l56.34646 0\" fill=\"#000000\" fill-opacity=\"0.0\" fill-rule=\"evenodd\"/>\n",
       "<path d=\"m73.115486 156.89502l56.34646 0\" fill-rule=\"evenodd\" stroke=\"#000000\" stroke-linecap=\"butt\" stroke-linejoin=\"round\" stroke-width=\"1.0\"/>\n",
       "<path d=\"m161.20473 72.238846l0 52.913383\" fill=\"#000000\" fill-opacity=\"0.0\" fill-rule=\"evenodd\"/>\n",
       "<path d=\"m161.20473 72.238846l0 52.913383\" fill-rule=\"evenodd\" stroke=\"#000000\" stroke-linecap=\"butt\" stroke-linejoin=\"round\" stroke-width=\"1.0\"/>\n",
       "<path d=\"m73.115486 40.490814l56.34646 0\" fill=\"#000000\" fill-opacity=\"0.0\" fill-rule=\"evenodd\"/>\n",
       "<path d=\"m73.115486 40.490814l56.34646 0\" fill-rule=\"evenodd\" stroke=\"#000000\" stroke-linecap=\"butt\" stroke-linejoin=\"round\" stroke-width=\"1.0\"/>\n",
       "<path d=\"m192.95276 40.490814l49.637787 35.74803\" fill=\"#000000\" fill-opacity=\"0.0\" fill-rule=\"evenodd\"/>\n",
       "<path d=\"m192.95276 40.490814l49.637787 35.74803\" fill-rule=\"evenodd\" stroke=\"#000000\" stroke-linecap=\"butt\" stroke-linejoin=\"round\" stroke-width=\"1.0\"/>\n",
       "<path d=\"m233.29396 98.69554l0 0c0 -17.533958 14.214081 -31.748032 31.748032 -31.748032l0 0c8.420105 0 16.49533 3.3448715 22.44925 9.298782c5.9539185 5.953911 9.298798 14.029144 9.298798 22.44925l0 0c0 17.53395 -14.214081 31.748032 -31.748047 31.748032l0 0c-17.53395 0 -31.748032 -14.214081 -31.748032 -31.748032z\" fill=\"#cfe2f3\" fill-rule=\"evenodd\"/>\n",
       "<path d=\"m233.29396 98.69554l0 0c0 -17.533958 14.214081 -31.748032 31.748032 -31.748032l0 0c8.420105 0 16.49533 3.3448715 22.44925 9.298782c5.9539185 5.953911 9.298798 14.029144 9.298798 22.44925l0 0c0 17.53395 -14.214081 31.748032 -31.748047 31.748032l0 0c-17.53395 0 -31.748032 -14.214081 -31.748032 -31.748032z\" fill-rule=\"evenodd\" stroke=\"#000000\" stroke-linecap=\"butt\" stroke-linejoin=\"round\" stroke-width=\"1.0\"/>\n",
       "<path d=\"m260.63538 102.08429l1.640625 -0.21875q0.28125 1.40625 0.953125 2.015625q0.6875 0.609375 1.65625 0.609375q1.15625 0 1.953125 -0.796875q0.796875 -0.796875 0.796875 -1.984375q0 -1.125 -0.734375 -1.859375q-0.734375 -0.734375 -1.875 -0.734375q-0.46875 0 -1.15625 0.171875l0.1875 -1.4375q0.15625 0.015625 0.265625 0.015625q1.046875 0 1.875 -0.546875q0.84375 -0.546875 0.84375 -1.671875q0 -0.90625 -0.609375 -1.5q-0.609375 -0.59375 -1.578125 -0.59375q-0.953125 0 -1.59375 0.609375q-0.640625 0.59375 -0.8125 1.796875l-1.640625 -0.296875q0.296875 -1.640625 1.359375 -2.546875q1.0625 -0.90625 2.65625 -0.90625q1.09375 0 2.0 0.46875q0.921875 0.46875 1.40625 1.28125q0.5 0.8125 0.5 1.71875q0 0.859375 -0.46875 1.578125q-0.46875 0.703125 -1.375 1.125q1.1875 0.28125 1.84375 1.140625q0.65625 0.859375 0.65625 2.15625q0 1.734375 -1.28125 2.953125q-1.265625 1.21875 -3.21875 1.21875q-1.765625 0 -2.921875 -1.046875q-1.15625 -1.046875 -1.328125 -2.71875z\" fill=\"#000000\" fill-rule=\"nonzero\"/>\n",
       "<path d=\"m192.95276 156.89502l49.637787 -35.74804\" fill=\"#000000\" fill-opacity=\"0.0\" fill-rule=\"evenodd\"/>\n",
       "<path d=\"m192.95276 156.89502l49.637787 -35.74804\" fill-rule=\"evenodd\" stroke=\"#000000\" stroke-linecap=\"butt\" stroke-linejoin=\"round\" stroke-width=\"1.0\"/>\n",
       "</g>\n",
       "</svg>"
      ],
      "text/plain": [
       "<IPython.core.display.SVG object>"
      ]
     },
     "metadata": {},
     "output_type": "display_data"
    }
   ],
   "source": [
    "display(SVG(url='https://raw.githubusercontent.com/wesdoyle/clrs-jupyter/master/Figures/CLRS_Ch22_Graph_1.svg?sanitize=true'))"
   ]
  },
  {
   "cell_type": "code",
   "execution_count": null,
   "metadata": {
    "collapsed": true
   },
   "outputs": [],
   "source": []
  }
 ],
 "metadata": {
  "kernelspec": {
   "display_name": "Python 3",
   "language": "python",
   "name": "python3"
  },
  "language_info": {
   "codemirror_mode": {
    "name": "ipython",
    "version": 3
   },
   "file_extension": ".py",
   "mimetype": "text/x-python",
   "name": "python",
   "nbconvert_exporter": "python",
   "pygments_lexer": "ipython3",
   "version": "3.6.3"
  }
 },
 "nbformat": 4,
 "nbformat_minor": 2
}
