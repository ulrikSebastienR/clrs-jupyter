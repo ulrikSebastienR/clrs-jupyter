{
 "cells": [
  {
   "cell_type": "markdown",
   "metadata": {},
   "source": [
    "## Chapter 22: Elementary Graph Algorithms"
   ]
  },
  {
   "cell_type": "code",
   "execution_count": 4,
   "metadata": {
    "collapsed": true
   },
   "outputs": [],
   "source": [
    "import unittest\n",
    "import random"
   ]
  },
  {
   "cell_type": "markdown",
   "metadata": {},
   "source": [
    "This chapter presents methods for representing a graph and for searching a graph.\n",
    "Searching means following edges to visit vertices."
   ]
  },
  {
   "cell_type": "markdown",
   "metadata": {},
   "source": [
    "### 22.1 Representations of Graphs"
   ]
  },
  {
   "cell_type": "markdown",
   "metadata": {},
   "source": [
    "- Two standard means of representation `G = (V, E)`: __Adjacency Lists__ and __Adjacency Matrix__\n",
    "    \n",
    "- Either applies to both directed and undirected graphs.\n",
    "- __Adjacency List__ compactly represents _sparse graphs_ `(E << V^2)`\n",
    "- __Adjaceny Matrix__ prefereable for _dense graphs_ `(E ~= V)^2` or quickly knowing if there is an edge connecting two nodes\n"
   ]
  },
  {
   "cell_type": "markdown",
   "metadata": {},
   "source": [
    "#### Adjacency-List Representation"
   ]
  },
  {
   "cell_type": "markdown",
   "metadata": {},
   "source": [
    "For a graph `G = (V, E)`, consists of:\n",
    "- array `Adj` of `|V|` lists, one for each vertex in `V`\n",
    "- for each `u ∈ V`, the adjacency list `Adj[u]` contains all vertices `v` such that there is an edge `(e, v) ∈ E`\n",
    "- in other words, `Adj[u]` is all of the vertices adjacent to `u` in `G`.\n",
    "- disadvantage: no quicker way to tell whether a given edge `(u, v)` is present in the graph than to search for `v` in `Adj[u]`"
   ]
  },
  {
   "cell_type": "markdown",
   "metadata": {},
   "source": [
    "[](https://github.com/wesdoyle/clrs-jupyter/blob/master/Figures/CLRS_Ch22_Graph_1.svg)"
   ]
  },
  {
   "cell_type": "code",
   "execution_count": null,
   "metadata": {
    "collapsed": true
   },
   "outputs": [],
   "source": []
  }
 ],
 "metadata": {
  "kernelspec": {
   "display_name": "Python 3",
   "language": "python",
   "name": "python3"
  },
  "language_info": {
   "codemirror_mode": {
    "name": "ipython",
    "version": 3
   },
   "file_extension": ".py",
   "mimetype": "text/x-python",
   "name": "python",
   "nbconvert_exporter": "python",
   "pygments_lexer": "ipython3",
   "version": "3.6.3"
  }
 },
 "nbformat": 4,
 "nbformat_minor": 2
}
